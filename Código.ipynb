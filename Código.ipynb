{
 "cells": [
  {
   "cell_type": "markdown",
   "metadata": {},
   "source": [
    "# CIÊNCIA DOS DADOS - PROJETO 2: PREDIÇÃO\n",
    "\n",
    "# Membros do grupo:\n",
    "* Augusto Rocha Ribeiro"
   ]
  },
  {
   "cell_type": "markdown",
   "metadata": {},
   "source": [
    "# 1) INTRODUÇÃO\n",
    "\n",
    "Algo intimamente relacionado a rotina de grande parte das pessoas atualmente são as mídias digitais e plataformas de streaming. E uma ferramenta muito importante para o funcionamento dessas plataformas e satisfação dos clientes com elas é o seu catálogo de produtos.\n",
    "\n",
    "No caso, estudaremos sobre a plataforma Amazon Prime Video e os programas de TV disponibilizados ou não por ela, de forma que ao final do nosso treinamento, com base nas características dos programas de TV e com técnicas de um **CLASSIFICADOR** (extensão do Naive-Bayes), tentaremos prever, aplicando modelos preditivos numa base de dados para teste, se um programa faz parte ou não da Amazon Prime Video."
   ]
  },
  {
   "cell_type": "markdown",
   "metadata": {},
   "source": [
    "# 2) MINERANDO DADOS\n",
    "\n",
    "A base de dados que será trabalhada foi retirada da plataforma Kaggle, inicialmente contendo informações sobre um total de 24664 programas e com 10 colunas. Porém, houve a necessidade de filtrar esses resultados tanto em questão de quantidade linhas, quando de colunas. As linhas removidas foram as linhas que faltavam informações em suas colunas. E as colunas removidas foram as colunas consideradas não vantajosas para a análise que será realizada neste trabalho.\n",
    "\n",
    "Ao final da manipulação, foi obtida uma base de dados referente a 9993 programas e com 6 colunas. Todo esse processo de manipulação inicial do dataset se seguirá explicado nos tópico 4."
   ]
  },
  {
   "cell_type": "markdown",
   "metadata": {},
   "source": [
    "# 3) CARACTERÍSTICAS DO DATASET\n",
    "\n",
    "Inicialmente, a base de dados \"TV Shows.csv\" será explorada com intuito de entender a associação entre algumas de suas variáveis qualitativas. O conjunto de dados, após manipulado, contém informações sobre 9993 programas de TV, os quais apresentam grande diversidade entre si.\n",
    "\n",
    "O objetivo com essa base de dados é, além de suportar o treinamento e o teste dos classificadores, conseguir classificar quais são as features importantes para que o programa seja ou não considerado para estar presente na plataforma Amazon Prime Video. A seguir, estão as principais colunas do nosso Dataset, as quais estaremos adequando-as aos métodos do Multinomial de Naive-Bayes e da Árvore de Decisão.\n",
    "\n",
    "* Year: data de lançamento do programa\n",
    "* Rating: classificação indicativa (idade mínima permitida para assistir ao programa)\n",
    "* IMDb: avaliação popular (de 1 a 10)\n",
    "* Rotten Tomatoes: avaliação/crítica profissional (de 0 a 100)\n",
    "* Genres: gênero do programa\n",
    "* Amazon Prime Video: se está presente ou não no serviço de streaming da Amazon Prime Video, sendo 1 equivalente a \"está presente\", e 0 a \"não está presente\""
   ]
  },
  {
   "cell_type": "markdown",
   "metadata": {},
   "source": [
    "# 4) TECNOLOGIAS UTILIZADAS\n",
    "\n",
    "A fim de tornar o dataset o mais adequado possível para o que busca nossa análise, foram utilizados códigos em Python desenvolvidos pela equipe, se valendo de bibliotecas que foram fundamentais nesse processo. Abaixo, esse processo segue explicado nos subtópicos."
   ]
  },
  {
   "cell_type": "markdown",
   "metadata": {},
   "source": [
    "## 4.1) Importando as Bibliotecas\n",
    "\n",
    "A seguir, bibliotecas que serão úteis para o desenvolvimento do código e suas respectivas funções."
   ]
  },
  {
   "cell_type": "code",
   "execution_count": 1,
   "metadata": {},
   "outputs": [],
   "source": [
    "import pandas as pd   # Usada para manipular dataframes\n",
    "\n",
    "import matplotlib.pyplot as plt   # Usada para plotar gráficos\n",
    "\n",
    "import numpy as np   # Usada para fazer manipulações matemáticas\n",
    "\n",
    "from sklearn.naive_bayes import MultinomialNB   # Usada para aplicar o método Multinomial Naive Bayes\n",
    "\n",
    "from sklearn import tree   # Usada para aplicar o método Decision Tree\n",
    "\n",
    "from sklearn.model_selection import train_test_split   # Usada para separar o dataframe em uma seção de treino e outra de teste\n",
    "\n",
    "from pandas_profiling import ProfileReport   # Usada para criar uma janela que contém várias análises sobre o dataframe"
   ]
  },
  {
   "cell_type": "markdown",
   "metadata": {},
   "source": [
    "## 4.2) Preparando o Dataset"
   ]
  },
  {
   "cell_type": "code",
   "execution_count": 2,
   "metadata": {},
   "outputs": [],
   "source": [
    "# Lendo o arquivo\n",
    "arq1 = pd.read_csv('TV Shows.csv')\n",
    "\n",
    "# Selecionando as partes úteis do arquivo\n",
    "arq2 = arq1.loc[:, ['Year', 'Rating', 'IMDb', 'Rotten Tomatoes', 'Genre', 'Amazon Prime Video']]\n",
    "\n",
    "# Retirando as linhas do dataset que apresentam uma coluna sem valor\n",
    "arq2 = arq2.dropna()\n",
    "\n",
    "# Reorganizando o index do dataframe, que ficou descontínuo após a remoção de algumas linhas pelo comando acima\n",
    "arq2 = arq2.reset_index()\n",
    "\n",
    "# Como a coluna 'index', que foi adicionada pelo comando reset_index(), não será útil na nossa análise, para desconsiderá-la:\n",
    "arq3 = arq2.loc[:, ['Year', 'Rating', 'IMDb', 'Rotten Tomatoes', 'Genre', 'Amazon Prime Video']]"
   ]
  },
  {
   "cell_type": "markdown",
   "metadata": {},
   "source": [
    "## 4.3) Limpando a base de dados\n",
    "\n",
    "Tirando o sinal \"+\" da coluna Age para cada linha do dataframe:"
   ]
  },
  {
   "cell_type": "code",
   "execution_count": 3,
   "metadata": {},
   "outputs": [],
   "source": [
    "for i in range(0, len(arq3)):\n",
    "    \n",
    "    # SE o valor de \"Rating\" é igual a \"all\", então pode-se interpretar que a\n",
    "    # idade mínima da classificação indicativa do programa é de 0 anos:\n",
    "    if arq3['Rating'][i] == 'all':\n",
    "        arq3.loc[i, 'Rating'] = 0\n",
    "    \n",
    "    # Para todos os valores de rating, substituir o elemento \"+\" por uma string vazia\n",
    "    # (se o valor não tiver o elemento \"+\", então ele simplesmente permanecerá o mesmo)\n",
    "    arq3.loc[i, 'Rating'] = float(str(arq3['Rating'][i]).replace('+', ''))\n",
    "    \n",
    "    # Assegurando que as demais variáveis numéricas estão no formato float\n",
    "    arq3.loc[i, 'Year'] = float(arq3['Year'][i])\n",
    "    arq3.loc[i, 'IMDb'] = float(arq3['IMDb'][i])\n",
    "    arq3.loc[i, 'Rotten Tomatoes'] = float(arq3['Rotten Tomatoes'][i])\n"
   ]
  },
  {
   "cell_type": "markdown",
   "metadata": {},
   "source": [
    "Após essas manipulações iniciais e o entendimento de cada variável do dataset, convém uma visualização da base de dados:"
   ]
  },
  {
   "cell_type": "code",
   "execution_count": 4,
   "metadata": {
    "scrolled": false
   },
   "outputs": [
    {
     "data": {
      "text/html": [
       "<div>\n",
       "<style scoped>\n",
       "    .dataframe tbody tr th:only-of-type {\n",
       "        vertical-align: middle;\n",
       "    }\n",
       "\n",
       "    .dataframe tbody tr th {\n",
       "        vertical-align: top;\n",
       "    }\n",
       "\n",
       "    .dataframe thead th {\n",
       "        text-align: right;\n",
       "    }\n",
       "</style>\n",
       "<table border=\"1\" class=\"dataframe\">\n",
       "  <thead>\n",
       "    <tr style=\"text-align: right;\">\n",
       "      <th></th>\n",
       "      <th>Year</th>\n",
       "      <th>Rating</th>\n",
       "      <th>IMDb</th>\n",
       "      <th>Rotten Tomatoes</th>\n",
       "      <th>Genre</th>\n",
       "      <th>Amazon Prime Video</th>\n",
       "    </tr>\n",
       "  </thead>\n",
       "  <tbody>\n",
       "    <tr>\n",
       "      <th>0</th>\n",
       "      <td>2019</td>\n",
       "      <td>18</td>\n",
       "      <td>6.2</td>\n",
       "      <td>81</td>\n",
       "      <td>Action &amp; Adventure</td>\n",
       "      <td>1</td>\n",
       "    </tr>\n",
       "    <tr>\n",
       "      <th>1</th>\n",
       "      <td>2019</td>\n",
       "      <td>13</td>\n",
       "      <td>5.7</td>\n",
       "      <td>74</td>\n",
       "      <td>Action &amp; Adventure</td>\n",
       "      <td>1</td>\n",
       "    </tr>\n",
       "    <tr>\n",
       "      <th>2</th>\n",
       "      <td>2019</td>\n",
       "      <td>18</td>\n",
       "      <td>6.1</td>\n",
       "      <td>72</td>\n",
       "      <td>Action &amp; Adventure</td>\n",
       "      <td>1</td>\n",
       "    </tr>\n",
       "    <tr>\n",
       "      <th>3</th>\n",
       "      <td>2019</td>\n",
       "      <td>18</td>\n",
       "      <td>4.9</td>\n",
       "      <td>50</td>\n",
       "      <td>Action &amp; Adventure</td>\n",
       "      <td>1</td>\n",
       "    </tr>\n",
       "    <tr>\n",
       "      <th>4</th>\n",
       "      <td>2019</td>\n",
       "      <td>18</td>\n",
       "      <td>6.1</td>\n",
       "      <td>79</td>\n",
       "      <td>Action &amp; Adventure</td>\n",
       "      <td>1</td>\n",
       "    </tr>\n",
       "    <tr>\n",
       "      <th>...</th>\n",
       "      <td>...</td>\n",
       "      <td>...</td>\n",
       "      <td>...</td>\n",
       "      <td>...</td>\n",
       "      <td>...</td>\n",
       "      <td>...</td>\n",
       "    </tr>\n",
       "    <tr>\n",
       "      <th>9988</th>\n",
       "      <td>2016</td>\n",
       "      <td>7</td>\n",
       "      <td>6.2</td>\n",
       "      <td>31</td>\n",
       "      <td>Drama</td>\n",
       "      <td>0</td>\n",
       "    </tr>\n",
       "    <tr>\n",
       "      <th>9989</th>\n",
       "      <td>2018</td>\n",
       "      <td>7</td>\n",
       "      <td>6.5</td>\n",
       "      <td>42</td>\n",
       "      <td>Drama</td>\n",
       "      <td>0</td>\n",
       "    </tr>\n",
       "    <tr>\n",
       "      <th>9990</th>\n",
       "      <td>2016</td>\n",
       "      <td>13</td>\n",
       "      <td>2.1</td>\n",
       "      <td>29</td>\n",
       "      <td>Drama</td>\n",
       "      <td>0</td>\n",
       "    </tr>\n",
       "    <tr>\n",
       "      <th>9991</th>\n",
       "      <td>2016</td>\n",
       "      <td>13</td>\n",
       "      <td>5.2</td>\n",
       "      <td>29</td>\n",
       "      <td>Drama</td>\n",
       "      <td>0</td>\n",
       "    </tr>\n",
       "    <tr>\n",
       "      <th>9992</th>\n",
       "      <td>2015</td>\n",
       "      <td>13</td>\n",
       "      <td>5.3</td>\n",
       "      <td>34</td>\n",
       "      <td>Drama</td>\n",
       "      <td>0</td>\n",
       "    </tr>\n",
       "  </tbody>\n",
       "</table>\n",
       "<p>9993 rows × 6 columns</p>\n",
       "</div>"
      ],
      "text/plain": [
       "      Year Rating IMDb Rotten Tomatoes               Genre  Amazon Prime Video\n",
       "0     2019     18  6.2              81  Action & Adventure                   1\n",
       "1     2019     13  5.7              74  Action & Adventure                   1\n",
       "2     2019     18  6.1              72  Action & Adventure                   1\n",
       "3     2019     18  4.9              50  Action & Adventure                   1\n",
       "4     2019     18  6.1              79  Action & Adventure                   1\n",
       "...    ...    ...  ...             ...                 ...                 ...\n",
       "9988  2016      7  6.2              31               Drama                   0\n",
       "9989  2018      7  6.5              42               Drama                   0\n",
       "9990  2016     13  2.1              29               Drama                   0\n",
       "9991  2016     13  5.2              29               Drama                   0\n",
       "9992  2015     13  5.3              34               Drama                   0\n",
       "\n",
       "[9993 rows x 6 columns]"
      ]
     },
     "execution_count": 4,
     "metadata": {},
     "output_type": "execute_result"
    }
   ],
   "source": [
    "arq3"
   ]
  },
  {
   "cell_type": "markdown",
   "metadata": {},
   "source": [
    "## 4.4) Criação da lista de gêneros\n",
    "\n",
    "Aqui, será feita uma lista com todos os gêneros que aparecem no dataset, sem repetições."
   ]
  },
  {
   "cell_type": "code",
   "execution_count": 5,
   "metadata": {},
   "outputs": [],
   "source": [
    "# Por meio de uma tabela, guarda-se os gêneros que a coluna \"Genre\" apresenta e as suas contagens por todo o dataset\n",
    "lista_gen = arq3['Genre'].value_counts()\n",
    "\n",
    "# Por meio de da função \"keys()\", guarda-se apenas os gêneros da tabela\n",
    "lista_gen = lista_gen.keys()\n",
    "\n",
    "# Conversão dos dados do último comando para o formato de lista, para compatibilidade com os próximos comandos\n",
    "lista_gen = list(lista_gen)"
   ]
  },
  {
   "cell_type": "markdown",
   "metadata": {},
   "source": [
    "## 4.5) Adição de colunas ao dataset\n",
    "\n",
    "Agora, para cada elemento da lista de gêneros, será adicionada uma coluna nova no dataframe, correspondente a esse gênero. Essa coluna irá retornar um valor booleano indicando se aquele gênero está presente ou não no programa de TV em questão, \"1\" significa que está presente, e \"0\" significa que não está presente."
   ]
  },
  {
   "cell_type": "code",
   "execution_count": 6,
   "metadata": {},
   "outputs": [],
   "source": [
    "for i in range(0, len(arq3)):\n",
    "    \n",
    "    # Para cada elemento da lista de gêneros\n",
    "    for g in lista_gen:\n",
    "        \n",
    "        # SE o gênero g está presente na coluna \"Genre\" do dataset para aquela linha, retornar \"1\" para o valor na nova coluna\n",
    "        if g in arq3['Genre'][i]:\n",
    "            arq3.loc[i, g] = 1\n",
    "        \n",
    "        # CASO g NÃO esteja presente na coluna \"Genre\", retornar \"0\"\n",
    "        else:\n",
    "            arq3.loc[i, g] = 0"
   ]
  },
  {
   "cell_type": "markdown",
   "metadata": {},
   "source": [
    "No tópico seguinte será evidenciada a importância dessa alteração no dataset, mas por hora, vamos ter uma visualização de como ficou o nosso dataset após essas manipulações:"
   ]
  },
  {
   "cell_type": "code",
   "execution_count": 7,
   "metadata": {
    "scrolled": false
   },
   "outputs": [
    {
     "data": {
      "text/html": [
       "<div>\n",
       "<style scoped>\n",
       "    .dataframe tbody tr th:only-of-type {\n",
       "        vertical-align: middle;\n",
       "    }\n",
       "\n",
       "    .dataframe tbody tr th {\n",
       "        vertical-align: top;\n",
       "    }\n",
       "\n",
       "    .dataframe thead th {\n",
       "        text-align: right;\n",
       "    }\n",
       "</style>\n",
       "<table border=\"1\" class=\"dataframe\">\n",
       "  <thead>\n",
       "    <tr style=\"text-align: right;\">\n",
       "      <th></th>\n",
       "      <th>Year</th>\n",
       "      <th>Rating</th>\n",
       "      <th>IMDb</th>\n",
       "      <th>Rotten Tomatoes</th>\n",
       "      <th>Genre</th>\n",
       "      <th>Amazon Prime Video</th>\n",
       "      <th>Drama</th>\n",
       "      <th>Action &amp; Adventure</th>\n",
       "      <th>Comedy</th>\n",
       "      <th>Crime</th>\n",
       "      <th>Horror</th>\n",
       "      <th>Documentary</th>\n",
       "      <th>Thriller</th>\n",
       "      <th>Animation</th>\n",
       "      <th>Mystery</th>\n",
       "      <th>Family</th>\n",
       "      <th>Biography</th>\n",
       "      <th>Romance</th>\n",
       "      <th>Fantasy</th>\n",
       "      <th>Anime</th>\n",
       "    </tr>\n",
       "  </thead>\n",
       "  <tbody>\n",
       "    <tr>\n",
       "      <th>0</th>\n",
       "      <td>2019</td>\n",
       "      <td>18</td>\n",
       "      <td>6.2</td>\n",
       "      <td>81</td>\n",
       "      <td>Action &amp; Adventure</td>\n",
       "      <td>1</td>\n",
       "      <td>0.0</td>\n",
       "      <td>1.0</td>\n",
       "      <td>0.0</td>\n",
       "      <td>0.0</td>\n",
       "      <td>0.0</td>\n",
       "      <td>0.0</td>\n",
       "      <td>0.0</td>\n",
       "      <td>0.0</td>\n",
       "      <td>0.0</td>\n",
       "      <td>0.0</td>\n",
       "      <td>0.0</td>\n",
       "      <td>0.0</td>\n",
       "      <td>0.0</td>\n",
       "      <td>0.0</td>\n",
       "    </tr>\n",
       "    <tr>\n",
       "      <th>1</th>\n",
       "      <td>2019</td>\n",
       "      <td>13</td>\n",
       "      <td>5.7</td>\n",
       "      <td>74</td>\n",
       "      <td>Action &amp; Adventure</td>\n",
       "      <td>1</td>\n",
       "      <td>0.0</td>\n",
       "      <td>1.0</td>\n",
       "      <td>0.0</td>\n",
       "      <td>0.0</td>\n",
       "      <td>0.0</td>\n",
       "      <td>0.0</td>\n",
       "      <td>0.0</td>\n",
       "      <td>0.0</td>\n",
       "      <td>0.0</td>\n",
       "      <td>0.0</td>\n",
       "      <td>0.0</td>\n",
       "      <td>0.0</td>\n",
       "      <td>0.0</td>\n",
       "      <td>0.0</td>\n",
       "    </tr>\n",
       "    <tr>\n",
       "      <th>2</th>\n",
       "      <td>2019</td>\n",
       "      <td>18</td>\n",
       "      <td>6.1</td>\n",
       "      <td>72</td>\n",
       "      <td>Action &amp; Adventure</td>\n",
       "      <td>1</td>\n",
       "      <td>0.0</td>\n",
       "      <td>1.0</td>\n",
       "      <td>0.0</td>\n",
       "      <td>0.0</td>\n",
       "      <td>0.0</td>\n",
       "      <td>0.0</td>\n",
       "      <td>0.0</td>\n",
       "      <td>0.0</td>\n",
       "      <td>0.0</td>\n",
       "      <td>0.0</td>\n",
       "      <td>0.0</td>\n",
       "      <td>0.0</td>\n",
       "      <td>0.0</td>\n",
       "      <td>0.0</td>\n",
       "    </tr>\n",
       "    <tr>\n",
       "      <th>3</th>\n",
       "      <td>2019</td>\n",
       "      <td>18</td>\n",
       "      <td>4.9</td>\n",
       "      <td>50</td>\n",
       "      <td>Action &amp; Adventure</td>\n",
       "      <td>1</td>\n",
       "      <td>0.0</td>\n",
       "      <td>1.0</td>\n",
       "      <td>0.0</td>\n",
       "      <td>0.0</td>\n",
       "      <td>0.0</td>\n",
       "      <td>0.0</td>\n",
       "      <td>0.0</td>\n",
       "      <td>0.0</td>\n",
       "      <td>0.0</td>\n",
       "      <td>0.0</td>\n",
       "      <td>0.0</td>\n",
       "      <td>0.0</td>\n",
       "      <td>0.0</td>\n",
       "      <td>0.0</td>\n",
       "    </tr>\n",
       "    <tr>\n",
       "      <th>4</th>\n",
       "      <td>2019</td>\n",
       "      <td>18</td>\n",
       "      <td>6.1</td>\n",
       "      <td>79</td>\n",
       "      <td>Action &amp; Adventure</td>\n",
       "      <td>1</td>\n",
       "      <td>0.0</td>\n",
       "      <td>1.0</td>\n",
       "      <td>0.0</td>\n",
       "      <td>0.0</td>\n",
       "      <td>0.0</td>\n",
       "      <td>0.0</td>\n",
       "      <td>0.0</td>\n",
       "      <td>0.0</td>\n",
       "      <td>0.0</td>\n",
       "      <td>0.0</td>\n",
       "      <td>0.0</td>\n",
       "      <td>0.0</td>\n",
       "      <td>0.0</td>\n",
       "      <td>0.0</td>\n",
       "    </tr>\n",
       "    <tr>\n",
       "      <th>...</th>\n",
       "      <td>...</td>\n",
       "      <td>...</td>\n",
       "      <td>...</td>\n",
       "      <td>...</td>\n",
       "      <td>...</td>\n",
       "      <td>...</td>\n",
       "      <td>...</td>\n",
       "      <td>...</td>\n",
       "      <td>...</td>\n",
       "      <td>...</td>\n",
       "      <td>...</td>\n",
       "      <td>...</td>\n",
       "      <td>...</td>\n",
       "      <td>...</td>\n",
       "      <td>...</td>\n",
       "      <td>...</td>\n",
       "      <td>...</td>\n",
       "      <td>...</td>\n",
       "      <td>...</td>\n",
       "      <td>...</td>\n",
       "    </tr>\n",
       "    <tr>\n",
       "      <th>9988</th>\n",
       "      <td>2016</td>\n",
       "      <td>7</td>\n",
       "      <td>6.2</td>\n",
       "      <td>31</td>\n",
       "      <td>Drama</td>\n",
       "      <td>0</td>\n",
       "      <td>1.0</td>\n",
       "      <td>0.0</td>\n",
       "      <td>0.0</td>\n",
       "      <td>0.0</td>\n",
       "      <td>0.0</td>\n",
       "      <td>0.0</td>\n",
       "      <td>0.0</td>\n",
       "      <td>0.0</td>\n",
       "      <td>0.0</td>\n",
       "      <td>0.0</td>\n",
       "      <td>0.0</td>\n",
       "      <td>0.0</td>\n",
       "      <td>0.0</td>\n",
       "      <td>0.0</td>\n",
       "    </tr>\n",
       "    <tr>\n",
       "      <th>9989</th>\n",
       "      <td>2018</td>\n",
       "      <td>7</td>\n",
       "      <td>6.5</td>\n",
       "      <td>42</td>\n",
       "      <td>Drama</td>\n",
       "      <td>0</td>\n",
       "      <td>1.0</td>\n",
       "      <td>0.0</td>\n",
       "      <td>0.0</td>\n",
       "      <td>0.0</td>\n",
       "      <td>0.0</td>\n",
       "      <td>0.0</td>\n",
       "      <td>0.0</td>\n",
       "      <td>0.0</td>\n",
       "      <td>0.0</td>\n",
       "      <td>0.0</td>\n",
       "      <td>0.0</td>\n",
       "      <td>0.0</td>\n",
       "      <td>0.0</td>\n",
       "      <td>0.0</td>\n",
       "    </tr>\n",
       "    <tr>\n",
       "      <th>9990</th>\n",
       "      <td>2016</td>\n",
       "      <td>13</td>\n",
       "      <td>2.1</td>\n",
       "      <td>29</td>\n",
       "      <td>Drama</td>\n",
       "      <td>0</td>\n",
       "      <td>1.0</td>\n",
       "      <td>0.0</td>\n",
       "      <td>0.0</td>\n",
       "      <td>0.0</td>\n",
       "      <td>0.0</td>\n",
       "      <td>0.0</td>\n",
       "      <td>0.0</td>\n",
       "      <td>0.0</td>\n",
       "      <td>0.0</td>\n",
       "      <td>0.0</td>\n",
       "      <td>0.0</td>\n",
       "      <td>0.0</td>\n",
       "      <td>0.0</td>\n",
       "      <td>0.0</td>\n",
       "    </tr>\n",
       "    <tr>\n",
       "      <th>9991</th>\n",
       "      <td>2016</td>\n",
       "      <td>13</td>\n",
       "      <td>5.2</td>\n",
       "      <td>29</td>\n",
       "      <td>Drama</td>\n",
       "      <td>0</td>\n",
       "      <td>1.0</td>\n",
       "      <td>0.0</td>\n",
       "      <td>0.0</td>\n",
       "      <td>0.0</td>\n",
       "      <td>0.0</td>\n",
       "      <td>0.0</td>\n",
       "      <td>0.0</td>\n",
       "      <td>0.0</td>\n",
       "      <td>0.0</td>\n",
       "      <td>0.0</td>\n",
       "      <td>0.0</td>\n",
       "      <td>0.0</td>\n",
       "      <td>0.0</td>\n",
       "      <td>0.0</td>\n",
       "    </tr>\n",
       "    <tr>\n",
       "      <th>9992</th>\n",
       "      <td>2015</td>\n",
       "      <td>13</td>\n",
       "      <td>5.3</td>\n",
       "      <td>34</td>\n",
       "      <td>Drama</td>\n",
       "      <td>0</td>\n",
       "      <td>1.0</td>\n",
       "      <td>0.0</td>\n",
       "      <td>0.0</td>\n",
       "      <td>0.0</td>\n",
       "      <td>0.0</td>\n",
       "      <td>0.0</td>\n",
       "      <td>0.0</td>\n",
       "      <td>0.0</td>\n",
       "      <td>0.0</td>\n",
       "      <td>0.0</td>\n",
       "      <td>0.0</td>\n",
       "      <td>0.0</td>\n",
       "      <td>0.0</td>\n",
       "      <td>0.0</td>\n",
       "    </tr>\n",
       "  </tbody>\n",
       "</table>\n",
       "<p>9993 rows × 20 columns</p>\n",
       "</div>"
      ],
      "text/plain": [
       "      Year Rating IMDb Rotten Tomatoes               Genre  \\\n",
       "0     2019     18  6.2              81  Action & Adventure   \n",
       "1     2019     13  5.7              74  Action & Adventure   \n",
       "2     2019     18  6.1              72  Action & Adventure   \n",
       "3     2019     18  4.9              50  Action & Adventure   \n",
       "4     2019     18  6.1              79  Action & Adventure   \n",
       "...    ...    ...  ...             ...                 ...   \n",
       "9988  2016      7  6.2              31               Drama   \n",
       "9989  2018      7  6.5              42               Drama   \n",
       "9990  2016     13  2.1              29               Drama   \n",
       "9991  2016     13  5.2              29               Drama   \n",
       "9992  2015     13  5.3              34               Drama   \n",
       "\n",
       "      Amazon Prime Video  Drama  Action & Adventure  Comedy  Crime  Horror  \\\n",
       "0                      1    0.0                 1.0     0.0    0.0     0.0   \n",
       "1                      1    0.0                 1.0     0.0    0.0     0.0   \n",
       "2                      1    0.0                 1.0     0.0    0.0     0.0   \n",
       "3                      1    0.0                 1.0     0.0    0.0     0.0   \n",
       "4                      1    0.0                 1.0     0.0    0.0     0.0   \n",
       "...                  ...    ...                 ...     ...    ...     ...   \n",
       "9988                   0    1.0                 0.0     0.0    0.0     0.0   \n",
       "9989                   0    1.0                 0.0     0.0    0.0     0.0   \n",
       "9990                   0    1.0                 0.0     0.0    0.0     0.0   \n",
       "9991                   0    1.0                 0.0     0.0    0.0     0.0   \n",
       "9992                   0    1.0                 0.0     0.0    0.0     0.0   \n",
       "\n",
       "      Documentary  Thriller  Animation  Mystery  Family  Biography  Romance  \\\n",
       "0             0.0       0.0        0.0      0.0     0.0        0.0      0.0   \n",
       "1             0.0       0.0        0.0      0.0     0.0        0.0      0.0   \n",
       "2             0.0       0.0        0.0      0.0     0.0        0.0      0.0   \n",
       "3             0.0       0.0        0.0      0.0     0.0        0.0      0.0   \n",
       "4             0.0       0.0        0.0      0.0     0.0        0.0      0.0   \n",
       "...           ...       ...        ...      ...     ...        ...      ...   \n",
       "9988          0.0       0.0        0.0      0.0     0.0        0.0      0.0   \n",
       "9989          0.0       0.0        0.0      0.0     0.0        0.0      0.0   \n",
       "9990          0.0       0.0        0.0      0.0     0.0        0.0      0.0   \n",
       "9991          0.0       0.0        0.0      0.0     0.0        0.0      0.0   \n",
       "9992          0.0       0.0        0.0      0.0     0.0        0.0      0.0   \n",
       "\n",
       "      Fantasy  Anime  \n",
       "0         0.0    0.0  \n",
       "1         0.0    0.0  \n",
       "2         0.0    0.0  \n",
       "3         0.0    0.0  \n",
       "4         0.0    0.0  \n",
       "...       ...    ...  \n",
       "9988      0.0    0.0  \n",
       "9989      0.0    0.0  \n",
       "9990      0.0    0.0  \n",
       "9991      0.0    0.0  \n",
       "9992      0.0    0.0  \n",
       "\n",
       "[9993 rows x 20 columns]"
      ]
     },
     "execution_count": 7,
     "metadata": {},
     "output_type": "execute_result"
    }
   ],
   "source": [
    "arq3"
   ]
  },
  {
   "cell_type": "markdown",
   "metadata": {},
   "source": [
    "# 5) ANÁLISE DESCRITIVA"
   ]
  },
  {
   "cell_type": "markdown",
   "metadata": {},
   "source": [
    "A seguir, serão realizados cruzamentos estatísticos entre Target e Feature, a fim de entendermos como se comporta a nossa variável Target cruzada com cada feature. Para isso, faremos uso de ferramentas estatísticas descritivas, que irão variar da primeira análise (subtópico 5.1) para a segunda (subtópico 5.2). Em todos os casos, a variável Target será a nossa coluna do dataset \"Amazon Prime Video\"."
   ]
  },
  {
   "cell_type": "markdown",
   "metadata": {},
   "source": [
    "## 5.1) Variáveis Qualitativas - Qualitativas"
   ]
  },
  {
   "cell_type": "markdown",
   "metadata": {},
   "source": [
    "Para iniciar a nossa análise já obtendo uma visão geral, será plotado um gráfico de barras que mostra em quantos porcento do total de programas que estão na Amazon Prime Video cada gênero está presente."
   ]
  },
  {
   "cell_type": "code",
   "execution_count": 8,
   "metadata": {},
   "outputs": [
    {
     "data": {
      "image/png": "[encoded data removed]",
      "text/plain": [
       "<Figure size 432x288 with 1 Axes>"
      ]
     },
     "metadata": {
      "needs_background": "light"
     },
     "output_type": "display_data"
    }
   ],
   "source": [
    "# Como o gênero \"Anime\" não aparece nem sequer uma vez nos programas da plataforma,\n",
    "# ele será deletado da lista de gêneros para a execução da análise atual\n",
    "del(lista_gen[13])\n",
    "\n",
    "# Faz uma lista de 0 a 13, referente aos índices usados para identificar os gêneros\n",
    "y = np.arange(len(lista_gen))\n",
    "\n",
    "# Guarda a contagem de aparições de cada gênero nos programas presentes na plataforma. O argumento \"True\"\n",
    "# torna os resultados em frações, e para mostrar esses resultados em percentuais multiplica-se por 100\n",
    "barras = 100*arq3.loc[arq3['Amazon Prime Video']==1, 'Genre'].value_counts(True)\n",
    "\n",
    "# Cria barras correspondentes aos percentuais de cada gênero. \n",
    "plt.bar(y, barras)\n",
    "\n",
    "# Nomeia o eixo y\n",
    "plt.ylabel('Percentual de programas por gênero')\n",
    "\n",
    "# Dá um título ao gráfico\n",
    "plt.title('Gráfico de barras para os gêneros de programas')\n",
    "\n",
    "# Cria nomes no eixo x, deixando-os na vertical\n",
    "plt.xticks(y, lista_gen, rotation=90)\n",
    "\n",
    "# Plota o gráfico\n",
    "plt.show()"
   ]
  },
  {
   "cell_type": "markdown",
   "metadata": {},
   "source": [
    "Ao analisar o gráfico acima, é visível que os gêneros que detêm o maior percentual de presença nos programas são Drama, Ação e Aventura, Comédia, e Crime. O primeiro se encontra bem acima de todos os outros, os dois intermediários tem valores aparentemente próximos, mas ainda grandes se comparados a maioria dos gêneros, e a partir do quarto (incluindo este) há uma redução bem grande no percentual de programas por gênero.\n",
    "\n",
    "Para confirmar essa análise, a seguir, será realizada uma tabela cruzada da coluna Amazon Prime Video com esses 4 gêneros que mais aparecem no dataset, esses gêneros serão as nossas Features. A tabela automaticamente é normalizada, isso faz com que cada valor na tabela corresponda a uma fração da linha em questão (0 ou 1, ou 'estar' ou 'não estar' na plataforma), o que nos permite realizar uma análise mais macroscópica e correlativa do problema."
   ]
  },
  {
   "cell_type": "code",
   "execution_count": 9,
   "metadata": {},
   "outputs": [
    {
     "data": {
      "text/html": [
       "<div>\n",
       "<style scoped>\n",
       "    .dataframe tbody tr th:only-of-type {\n",
       "        vertical-align: middle;\n",
       "    }\n",
       "\n",
       "    .dataframe tbody tr th {\n",
       "        vertical-align: top;\n",
       "    }\n",
       "\n",
       "    .dataframe thead th {\n",
       "        text-align: right;\n",
       "    }\n",
       "</style>\n",
       "<table border=\"1\" class=\"dataframe\">\n",
       "  <thead>\n",
       "    <tr style=\"text-align: right;\">\n",
       "      <th></th>\n",
       "      <th>Action &amp; Adventure</th>\n",
       "      <th>Comedy</th>\n",
       "      <th>Crime</th>\n",
       "      <th>Drama</th>\n",
       "    </tr>\n",
       "    <tr>\n",
       "      <th>Amazon Prime Video</th>\n",
       "      <th></th>\n",
       "      <th></th>\n",
       "      <th></th>\n",
       "      <th></th>\n",
       "    </tr>\n",
       "  </thead>\n",
       "  <tbody>\n",
       "    <tr>\n",
       "      <th>0</th>\n",
       "      <td>0.247828</td>\n",
       "      <td>0.299438</td>\n",
       "      <td>0.039346</td>\n",
       "      <td>0.301482</td>\n",
       "    </tr>\n",
       "    <tr>\n",
       "      <th>1</th>\n",
       "      <td>0.193380</td>\n",
       "      <td>0.178198</td>\n",
       "      <td>0.070931</td>\n",
       "      <td>0.270035</td>\n",
       "    </tr>\n",
       "    <tr>\n",
       "      <th>All</th>\n",
       "      <td>0.204043</td>\n",
       "      <td>0.201941</td>\n",
       "      <td>0.064745</td>\n",
       "      <td>0.276193</td>\n",
       "    </tr>\n",
       "  </tbody>\n",
       "</table>\n",
       "</div>"
      ],
      "text/plain": [
       "                    Action & Adventure    Comedy     Crime     Drama\n",
       "Amazon Prime Video                                                  \n",
       "0                             0.247828  0.299438  0.039346  0.301482\n",
       "1                             0.193380  0.178198  0.070931  0.270035\n",
       "All                           0.204043  0.201941  0.064745  0.276193"
      ]
     },
     "execution_count": 9,
     "metadata": {},
     "output_type": "execute_result"
    }
   ],
   "source": [
    "# Guardando apenas a parte que será usada do dataframe para a tabela\n",
    "pivot = arq3.loc[:, ['Amazon Prime Video', 'Drama', 'Action & Adventure', 'Comedy', 'Crime']]\n",
    "\n",
    "# Imprimindo a tabela\n",
    "tab = pd.pivot_table(pivot, index='Amazon Prime Video', margins=True)\n",
    "tab"
   ]
  },
  {
   "cell_type": "markdown",
   "metadata": {},
   "source": [
    "Analisando os valores da linha 1 da tabela acima para cada gênero, confirma-se as informações obtidas no gráfico de barras, a porcentagem de Drama ainda é a maior de todas, que é 27,0 %. As porcentagens de Ação e Aventura e de Comédia são menores que a de Drama e são relativamente próximas, elas são, respectivamente 19,3 % e 17,8 %. E finalmente, em Crime já é vista uma grande redução na porcentagem, que abaixa para 7,1 %.\n",
    "\n",
    "Note que essa foi a importância de termos criado uma coluna para cada gênero no dataset no subtópico 4.5, com essas colunas, pudemos realizar a contagem das ocorrências de cada gênero para o total de programas, e uma análise com essa tabela cruzada se fez possível."
   ]
  },
  {
   "cell_type": "markdown",
   "metadata": {},
   "source": [
    "## 5.2) Variáveis Qualitativas - Quantitativas\n",
    "\n",
    "O código da célula abaixo é uma preparação para a nossa análise, nele criaremos faixas que serão usadas para uma melhor interpretação dos histogramas que serão plotados em seguida."
   ]
  },
  {
   "cell_type": "code",
   "execution_count": 10,
   "metadata": {},
   "outputs": [],
   "source": [
    "# Criação de lista numérica, determinando respectivamente início, fim, e intervalo adequados para a variável\n",
    "faixa1 = np.arange(1912,2027, 6)\n",
    "\n",
    "# Nova lista para adicionar todos os números da lista anterior em formato\n",
    "# de string, a fim de enumerar as posições do eixo x do histograma\n",
    "fs1=[]\n",
    "for i in faixa1:\n",
    "    fs1.append(str(i))\n",
    "\n",
    "    \n",
    "# ----- REPETIÇÃO DO PROCESSO PARA AS DEMAIS VARIÁVEIS    \n",
    "\n",
    "faixa2 = np.arange(0,20, 1)\n",
    "fs2=[]\n",
    "for i in faixa2:\n",
    "    fs2.append(str(i))\n",
    "\n",
    "faixa3 = np.arange(1,11, 0.5)\n",
    "fs3=[]\n",
    "for i in faixa3:\n",
    "    fs3.append(str(i))\n",
    "\n",
    "faixa4 = np.arange(0,103, 6)\n",
    "fs4=[]\n",
    "for i in faixa4:\n",
    "    fs4.append(str(i))"
   ]
  },
  {
   "cell_type": "markdown",
   "metadata": {},
   "source": [
    "Com o código a seguir, são plotados os histogramas referentes às 4 variáveis numéricas do nosso dataset. Os histogramas estão sobrepostos cada um com os seus cenários \"Presente\" e \"Ausente\" na Amazon Prime Video e estão normalizados, ou seja, seus valores no eixo Y representam frações em relação ao total do respectivo cenário analisado), a fim de proporcionar uma melhora na visualização da comparação entre esses cenários. Todos os histogramas estão identificados sobre qual a variável que está sendo tratada, com os eixos também identificados."
   ]
  },
  {
   "cell_type": "code",
   "execution_count": 11,
   "metadata": {},
   "outputs": [
    {
     "data": {
      "image/png": "[encoded data removed]",
      "text/plain": [
       "<Figure size 1224x936 with 4 Axes>"
      ]
     },
     "metadata": {
      "needs_background": "light"
     },
     "output_type": "display_data"
    }
   ],
   "source": [
    "# Criação de uma figura (espaço onde serão plotados os 4 gráficos distribuídos igualmente)\n",
    "plt.figure(figsize=(17, 13))\n",
    "\n",
    "\n",
    "# O último algarismo corresponde a posição do histograma em questão na ordem de plots\n",
    "plt.subplot(221)\n",
    "\n",
    "# Criação das barras\n",
    "plt.hist(arq3.loc[arq3['Amazon Prime Video']==1, 'Year'], bins=faixa1, density=True, edgecolor='white', alpha=0.5, label='PRESENTE')\n",
    "plt.hist(arq3.loc[arq3['Amazon Prime Video']==0, 'Year'], bins=faixa1, density=True, edgecolor='white', alpha=0.5, label='AUSENTE')\n",
    "\n",
    "# Enumera as posições do eixo X de acordo com as variáveis criadas na última célula\n",
    "plt.xticks(faixa1, fs1, rotation=90)\n",
    "\n",
    "# Dá titulo ao histograma\n",
    "plt.title('Histograma 1: Amazon Prime Video x Year')\n",
    "\n",
    "# Dá nome a cada eixo\n",
    "plt.xlabel('Ano de lançamento')\n",
    "plt.ylabel('Densidade')\n",
    "\n",
    "# Identifica cada barra (\"\"PRESENTE\" ou \"FALTANTE\") com uma caixa de legenda\n",
    "plt.legend()\n",
    "\n",
    "\n",
    "# ----- REPETIÇÃO DO PROCESSO PARA AS DEMAIS VARIÁVEIS \n",
    "\n",
    "plt.subplot(222)\n",
    "plt.hist(arq3.loc[arq3['Amazon Prime Video']==1, 'Rating'], bins=faixa2, density=True, edgecolor='white', alpha=0.5, label='PRESENTE')\n",
    "plt.hist(arq3.loc[arq3['Amazon Prime Video']==0, 'Rating'], bins=faixa2, density=True, edgecolor='white', alpha=0.5, label='AUSENTE')\n",
    "plt.xticks(faixa2, fs2)\n",
    "plt.title('Histograma 2: Amazon Prime Video x Rating')\n",
    "plt.xlabel('Classificação indicativa')\n",
    "plt.ylabel('Densidade')\n",
    "plt.legend()\n",
    "\n",
    "plt.subplot(223)\n",
    "plt.hist(arq3.loc[arq3['Amazon Prime Video']==1, 'IMDb'], bins=faixa3, density=True, edgecolor='white', alpha=0.5, label='PRESENTE')\n",
    "plt.hist(arq3.loc[arq3['Amazon Prime Video']==0, 'IMDb'], bins=faixa3, density=True, edgecolor='white', alpha=0.5, label='AUSENTE')\n",
    "plt.xticks(faixa3, fs3, rotation=90)\n",
    "plt.title('Histograma 3: Amazon Prime Video x IMDb')\n",
    "plt.xlabel('Nota IMDb')\n",
    "plt.ylabel('Densidade')\n",
    "plt.legend()\n",
    "\n",
    "plt.subplot(224)\n",
    "plt.hist(arq3.loc[arq3['Amazon Prime Video']==1, 'Rotten Tomatoes'], bins=faixa4, density=True, edgecolor='white', alpha=0.5, label='PRESENTE')\n",
    "plt.hist(arq3.loc[arq3['Amazon Prime Video']==0, 'Rotten Tomatoes'], bins=faixa4, density=True, edgecolor='white', alpha=0.5, label='AUSENTE')\n",
    "plt.xticks(faixa4, fs4)\n",
    "plt.title('Histograma 4: Amazon Prime Video x Rotten Tomatoes')\n",
    "plt.xlabel('Nota Rotten Tomatoes')\n",
    "plt.ylabel('Densidade')\n",
    "plt.legend()\n",
    "\n",
    "\n",
    "# Mostra os histogramas\n",
    "plt.show()"
   ]
  },
  {
   "cell_type": "markdown",
   "metadata": {},
   "source": [
    "Com os histogramas plotados, vamos agora a uma análise dos comportamentos das variáveis Features (Year, Rating, IMDb, Rotten Tomatoes) com a variável Target (Amazon Prime Video):\n",
    "\n",
    "\n",
    "* Para o Histograma 1, as situações iniciais que se observam é que os programas estão proporcionalmente mais presentes do que ausentes na plataforma, porém, tal situação vai se invertendo com o passar do tempo, inversão essa que se mostra bem acentuada nos últimos anos. Esse comportamente é compreensível, visto que os programas lançados mais recentemente comumente não vão direto para as plataformas de streaming, há um certo período de tempo para haver essa inclusão do programa nas plataformas, por exemplo para que haja o lucro desse programa em outros meios (para filmes, por exemplo têm-se as bilheterias de cinema).\n",
    "\n",
    "\n",
    "* Para o Histograma 2, percebe-se que somente os programas com classificação indicativa para maiores de 18 anos estão proporcionalmente mais presentes do que ausentes na Amazon Prime Video. Porém, vale ressaltar que para as outras classificações indicativas essa diferença não é tão acentuada entre os 2 cenários.\n",
    "\n",
    "\n",
    "* Para o Histograma 3, para ambos os cenários (presente ou não na plataforma), percebe-se que até uma certa nota IMDb, que se encontra numa região intermediária, conforme ela aumenta, a quantidade de programas também aumenta, e após tal nota na região intermediária, há o decaimento da quantidade para ambos os cenários também. Esse é um resultado compreensível pois as probabilidades de programas atingirem notas muito altas ou muito baixas são menores, pois isso requer performances irregulares dos programas, assim, a média de notas tende a se concentrar nas regiões intermediárias.\n",
    "\n",
    "\n",
    "* Para o Histograma 4, há um comportamento quase que semelhante ao histograma 3, porém, como esse histograma se trata de uma avaliação realizada por críticos, e não por internautas como o IMDb, pode haver mais tópicos a se pontuar. É visível que para os programas cujas notas são de 48 para cima, os programas ausentes são consideravelmente maiores (proporcionalmente falando) que os programas presentes. Isso não necessariamente significa que a Amazon Prime Video é uma plataforma de baixa qualidade, pois podem haver fatores externos a se considerar, como por exemplo a concorrência desse mercado. Plataformas como Netflix, Disney+, entre outras, podem pegar boa parte desses programas com boas notas dos críticos, por isso é coerente que apenas a Amazon Prime Video não vá possuir sozinha a maioria dos programas com altas classificações."
   ]
  },
  {
   "cell_type": "markdown",
   "metadata": {},
   "source": [
    "# 6) MODELOS DE PREDIÇÃO"
   ]
  },
  {
   "cell_type": "markdown",
   "metadata": {},
   "source": [
    "## 6.1) Método da Multinomial de Naive-Bayes\n",
    "\n",
    "Esse classificador aplica um modelo de probabilidade condicional e é totalmente adequado para a classificação de valores discretos e sejam independentes (que é o que temos no nosso caso!). A simplicidade desse modelo, como pode se ver no código abaixo, viabiliza o seu uso para predições em longas bases de dados, de maneira concisa e eficiente,"
   ]
  },
  {
   "cell_type": "code",
   "execution_count": 12,
   "metadata": {},
   "outputs": [
    {
     "data": {
      "text/plain": [
       "0.7478739369684843"
      ]
     },
     "execution_count": 12,
     "metadata": {},
     "output_type": "execute_result"
    }
   ],
   "source": [
    "# Definindo variáveis features\n",
    "X = arq3.loc[:, ['Year', 'Rating', 'IMDb', 'Rotten Tomatoes'] + lista_gen]\n",
    "\n",
    "# Definindo variável Target\n",
    "Y = arq3.loc[:, 'Amazon Prime Video']\n",
    "\n",
    "# Separando a base de dados em seções de treino e teste, individualmente para o X e Y definidos acima. \"test_size\" corresponde\n",
    "# ao tamanho da seção de teste, que foi definido como 20 % do total do dataset. E o último argumento \"random_state\"\n",
    "# realiza um embaralhamento do dataset, a fim de que não se obtenha resultados tendenciosos posteriormente.\n",
    "X_train, X_test, Y_train, Y_test = train_test_split(X, Y, test_size=0.2, random_state=42)\n",
    "\n",
    "# Aplica o Classificador Multinomial de Naive Bayes nos X e Y fornecidos\n",
    "modelo = MultinomialNB().fit(X_train, Y_train)\n",
    "\n",
    "# Obtém o resultado final\n",
    "result =  modelo.score(X_test, Y_test)\n",
    "result"
   ]
  },
  {
   "cell_type": "markdown",
   "metadata": {},
   "source": [
    "## 6.2) Método da Árvore de Decisão\n",
    "\n",
    "Ao aplicar o algorítimo da Árvore de Decisão, obtém-se um modelo preditivo preciso e que considera os valores não lineares, essa ponderação automática do programa com os valores não lineares facilita a sua aplicação. Assim, acaba-se por ter nesse modelo uma tal versatilidade que permite que ele seja aplicado tanto como um classificador quanto um modelo de regressão (mas lembrando que aqui será usado como CLASSIFICADOR), e funcionando para variáveis que sejam elas aleatórias ou contínuas. Abaixo, tem-se o código de aplicação desse método no nosso dataset. O código desse modelo, assim como o código para o modelo Multinomial de Naive Bayes, também é bem conciso. E aqui também se aproveita os X e Y criados para a última aplicação, isso não impacta negativamente na resposta final da aplicação desse método."
   ]
  },
  {
   "cell_type": "code",
   "execution_count": 13,
   "metadata": {},
   "outputs": [
    {
     "data": {
      "text/plain": [
       "0.7998999499749875"
      ]
     },
     "execution_count": 13,
     "metadata": {},
     "output_type": "execute_result"
    }
   ],
   "source": [
    "# Aplica o Classificador da Árvore de Decisão nos X e Y fornecidos\n",
    "modelo2 = tree.DecisionTreeClassifier().fit(X_train,Y_train)\n",
    "\n",
    "# Obtém o resultado final\n",
    "result2 = modelo2.score(X_test,Y_test)\n",
    "result2"
   ]
  },
  {
   "cell_type": "markdown",
   "metadata": {},
   "source": [
    "## 6.3) Comparação dos modelos"
   ]
  },
  {
   "cell_type": "code",
   "execution_count": 14,
   "metadata": {},
   "outputs": [
    {
     "name": "stdout",
     "output_type": "stream",
     "text": [
      "Para o método da Multinomial de Naive Bayes, obteve-se uma acurácia de 0.7478739369684843\n",
      "Para o método da Árvore de Decisão, obteve-se uma acurácia de 0.7998999499749875\n"
     ]
    }
   ],
   "source": [
    "print(f'Para o método da Multinomial de Naive Bayes, obteve-se uma acurácia de {result}')\n",
    "print(f'Para o método da Árvore de Decisão, obteve-se uma acurácia de {result2}')"
   ]
  },
  {
   "cell_type": "markdown",
   "metadata": {},
   "source": [
    "Analisando as precisões média nos dados de treino e teste fornecidos para cada modelo, concluí-se que os valores obtidos não ficaram muito distantes entre si. Ainda, não houve underfitting, ambos os modelos acertaram um percentual bom das informações de teste, chamando a atenção para o fato de que em nenhum dos modelos ocorreu overfitting, que pode parecer algo bom inicialmente, mas que depois se conclui que é algo negativo para o desempenho do modelo em novos dados.\n"
   ]
  },
  {
   "cell_type": "markdown",
   "metadata": {},
   "source": [
    "# 7) CONCLUSÃO\n",
    "\n",
    "Levando em conta os resultados obtidos, foi possível ao longo do projeto analisar quais são as características de um programa que são importantes para definir se ele vai ou não para a Amazon Prime Video. As diferentes aplicações de ferramentas estatísticas moldadas ao contexto foram muito significativas para que a análise não fosse feita de maneira unilateral e tendenciosa, tanto na parte de variáveis quantitativas com qualitativas quanto na parte de variáveis qualitativas com qualitativas. Esse conjunto de análises críticas e macroscópicas com diversos artifícios implementados ao longo do projeto foi essencial para obter o resultado que se teve com os modelos de classificação.\n"
   ]
  },
  {
   "cell_type": "markdown",
   "metadata": {},
   "source": [
    "# 8) REFERÊNCIAS\n",
    "\n",
    "Abaixo, têm-se as referências de todas as pesquisas feitas e estudadas que foram relevantes para o desenvolvimento do projeto:"
   ]
  },
  {
   "cell_type": "markdown",
   "metadata": {},
   "source": [
    "https://www.kaggle.com/jyotmakadiya/popular-movies-and-tv-shows-amazon-prime-netflix\n",
    "\n",
    "https://pandas.pydata.org/pandas-docs/stable/reference/api/pandas.crosstab.html\n",
    "\n",
    "https://ensinandomaquinasblog.wordpress.com/2017/12/15/modelos-preditivos-de-notas-de-redacao-do-enem-2015/\n",
    "\n",
    "https://scikit-learn.org/stable/modules/generated/sklearn.model_selection.train_test_split.html\n",
    "\n",
    "https://scikit-learn.org/stable/modules/generated/sklearn.naive_bayes.MultinomialNB.html\n",
    "\n",
    "https://www.python-graph-gallery.com/barplot/#:~:text=A%20barplot%20shows%20the%20relationship,Python%20%2C%20using%20Matplotlib%20and%20Seaborn%20\n",
    "\n",
    "http://excript.com/python/incluindo-alterando-excluindo-elementos-lista-python.html\n",
    "\n",
    "https://pandas.pydata.org/pandas-docs/stable/reference/api/pandas.pivot_table.html\n",
    "\n",
    "https://matplotlib.org/stable/api/_as_gen/matplotlib.pyplot.hist.html\n",
    "\n",
    "https://machinelearningmastery.com/overfitting-and-underfitting-with-machine-learning-algorithms/"
   ]
  }
 ],
 "metadata": {
  "kernelspec": {
   "display_name": "Python 3",
   "language": "python",
   "name": "python3"
  },
  "language_info": {
   "codemirror_mode": {
    "name": "ipython",
    "version": 3
   },
   "file_extension": ".py",
   "mimetype": "text/x-python",
   "name": "python",
   "nbconvert_exporter": "python",
   "pygments_lexer": "ipython3",
   "version": "3.7.6"
  }
 },
 "nbformat": 4,
 "nbformat_minor": 4
}
